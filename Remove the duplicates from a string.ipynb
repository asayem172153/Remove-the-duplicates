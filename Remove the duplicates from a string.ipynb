{
  "nbformat": 4,
  "nbformat_minor": 0,
  "metadata": {
    "colab": {
      "provenance": []
    },
    "kernelspec": {
      "name": "python3",
      "display_name": "Python 3"
    },
    "language_info": {
      "name": "python"
    }
  },
  "cells": [
    {
      "cell_type": "code",
      "execution_count": 1,
      "metadata": {
        "colab": {
          "base_uri": "https://localhost:8080/"
        },
        "id": "47u2A2cBrlGb",
        "outputId": "ecd62b76-c23c-4279-bc4c-aa27a606cbd3"
      },
      "outputs": [
        {
          "output_type": "stream",
          "name": "stdout",
          "text": [
            "asdfjkl\n"
          ]
        }
      ],
      "source": [
        "string = 'asdfasdfjkljkl'\n",
        "new_str = ''\n",
        "\n",
        "for i in string:\n",
        "  if i not in new_str:\n",
        "    new_str += i\n",
        "\n",
        "print(new_str)\n"
      ]
    }
  ]
}